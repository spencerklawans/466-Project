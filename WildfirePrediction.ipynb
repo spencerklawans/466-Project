{
  "nbformat": 4,
  "nbformat_minor": 0,
  "metadata": {
    "colab": {
      "name": "Untitled0.ipynb",
      "provenance": [],
      "collapsed_sections": []
    },
    "kernelspec": {
      "display_name": "Python 3",
      "language": "python",
      "name": "python3"
    },
    "language_info": {
      "codemirror_mode": {
        "name": "ipython",
        "version": 3
      },
      "file_extension": ".py",
      "mimetype": "text/x-python",
      "name": "python",
      "nbconvert_exporter": "python",
      "pygments_lexer": "ipython3",
      "version": "3.9.0"
    }
  },
  "cells": [
    {
      "cell_type": "markdown",
      "metadata": {
        "id": "s9UDzlSvImEE"
      },
      "source": [
        "# Wildfire Prediction\n",
        "Brought to you by Gooogle Earth Engine"
      ]
    },
    {
      "cell_type": "code",
      "metadata": {
        "id": "fcr4UrQgH2Vs"
      },
      "source": [
        "# Import libraries.\n",
        "import ee\n",
        "import folium\n",
        "\n",
        "# Trigger the authentication flow.\n",
        "ee.Authenticate()\n",
        "\n",
        "# Initialize the library.\n",
        "ee.Initialize()\n",
        "\n",
        "# Define a method for displaying Earth Engine image tiles to folium map.\n",
        "def add_ee_layer(self, ee_image_object, vis_params, name):\n",
        "  map_id_dict = ee.Image(ee_image_object).getMapId(vis_params)\n",
        "  folium.raster_layers.TileLayer(\n",
        "    tiles = map_id_dict['tile_fetcher'].url_format,\n",
        "    attr = \"Map Data © Google Earth Engine\",\n",
        "    name = name,\n",
        "    overlay = True,\n",
        "    control = True\n",
        "  ).add_to(self)\n",
        "\n",
        "# Add EE drawing method to folium.\n",
        "folium.Map.add_ee_layer = add_ee_layer"
      ],
      "execution_count": null,
      "outputs": []
    },
    {
      "cell_type": "code",
      "metadata": {
        "id": "xBdnGZKyNdc8"
      },
      "source": [
        "#Init KDD libraries\n",
        "\n",
        "%matplotlib inline\n",
        "\n",
        "import numpy as np\n",
        "import pandas as pd\n",
        "import sklearn"
      ],
      "execution_count": 2,
      "outputs": []
    },
    {
      "cell_type": "code",
      "metadata": {
        "id": "CVN4wzMJeAcl"
      },
      "source": [
        "California = ee.Geometry.Rectangle(-124.18, 41.39, -114.35, 32.75)\n",
        "\n",
        "# Import our fire events as features\n",
        "modis_fires = ee.FeatureCollection('JRC/GWIS/GlobFire/v2/FinalPerimeters').filterBounds(California)\n",
        "# filter for only fires with greater than 10,000,000 square meters\n",
        "modis_fires = modis_fires.filter(ee.Filter.gt('area', 10000000))"
      ],
      "execution_count": 4,
      "outputs": []
    },
    {
      "cell_type": "code",
      "metadata": {
        "id": "fbyXzVeCCj1V"
      },
      "source": [
        "slo = ee.Geometry.Point([-120.4358, 35.3102])\n",
        "\n",
        "# Import ImageCollections\n",
        "landfire_prs = ee.Image(\"LANDFIRE/Fire/PRS/v1_2_0/CONUS\")\n",
        "landfire_evc = ee.Image(\"LANDFIRE/Vegetation/EVC/v1_4_0/CONUS\")"
      ],
      "execution_count": 5,
      "outputs": []
    },
    {
      "cell_type": "code",
      "metadata": {
        "id": "C8U6WT-nWHRl"
      },
      "source": [
        "# Set visualization parameters. I'm pretty sure min and max should track to the min and max values of the set at https://developers.google.com/earth-engine/datasets/catalog/LANDFIRE_Fire_PRS_v1_2_0#bands\n",
        "prs_viz_params = {\n",
        "    'bands': ['PRS']\n",
        "}\n",
        "\n",
        "evc_vis_params = {\n",
        "    'bands': ['EVC'],\n",
        "    'opacity':.5\n",
        "}\n",
        "\n",
        "# Create a folium map object.\n",
        "my_map = folium.Map(location=[35.3102, -120.4358], zoom_start=8)\n",
        "\n",
        "# Add the fire severity & existing vegetation type images to the map object.\n",
        "my_map.add_ee_layer(landfire_prs, prs_viz_params, 'Percent Replacement-Severity Fire')\n",
        "my_map.add_ee_layer(landfire_evc, evc_vis_params, 'Existing Vegetation Cover')\n",
        "my_map.add_ee_layer(ee.Image().paint(modis_fires), {'palette': '#FF0000'}, 'Fire Events')\n",
        "\n",
        "# Add a layer control panel to the map.\n",
        "my_map.add_child(folium.LayerControl())\n",
        "\n",
        "# Display the map.\n",
        "display(my_map)"
      ],
      "execution_count": null,
      "outputs": []
    },
    {
      "cell_type": "code",
      "metadata": {
        "id": "gzn2WSzbpqIh"
      },
      "source": [
        "# Training\n",
        "\n",
        "training = landfire_evc.sampleRegions(landfire_evc)"
      ],
      "execution_count": 34,
      "outputs": []
    }
  ]
}