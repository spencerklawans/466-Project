{
  "nbformat": 4,
  "nbformat_minor": 0,
  "metadata": {
    "colab": {
      "name": "Untitled0.ipynb",
      "provenance": [],
      "collapsed_sections": [],
      "include_colab_link": true
    },
    "kernelspec": {
      "display_name": "Python 3",
      "language": "python",
      "name": "python3"
    },
    "language_info": {
      "codemirror_mode": {
        "name": "ipython",
        "version": 3
      },
      "file_extension": ".py",
      "mimetype": "text/x-python",
      "name": "python",
      "nbconvert_exporter": "python",
      "pygments_lexer": "ipython3",
      "version": "3.9.0"
    }
  },
  "cells": [
    {
      "cell_type": "markdown",
      "metadata": {
        "id": "view-in-github",
        "colab_type": "text"
      },
      "source": [
        "<a href=\"https://colab.research.google.com/github/spencerklawans/466-Project/blob/first-model/WildfirePrediction.ipynb\" target=\"_parent\"><img src=\"https://colab.research.google.com/assets/colab-badge.svg\" alt=\"Open In Colab\"/></a>"
      ]
    },
    {
      "cell_type": "markdown",
      "metadata": {
        "id": "s9UDzlSvImEE"
      },
      "source": [
        "# Wildfire Prediction\n",
        "Brought to you by Gooogle Earth Engine"
      ]
    },
    {
      "cell_type": "code",
      "metadata": {
        "id": "fcr4UrQgH2Vs"
      },
      "source": [
        "# Import libraries.\n",
        "import ee\n",
        "import folium\n",
        "\n",
        "# Trigger the authentication flow.\n",
        "ee.Authenticate()\n",
        "\n",
        "# Initialize the library.\n",
        "ee.Initialize()\n",
        "\n",
        "# Define a method for displaying Earth Engine image tiles to folium map.\n",
        "def add_ee_layer(self, ee_image_object, vis_params, name):\n",
        "  map_id_dict = ee.Image(ee_image_object).getMapId(vis_params)\n",
        "  folium.raster_layers.TileLayer(\n",
        "    tiles = map_id_dict['tile_fetcher'].url_format,\n",
        "    attr = \"Map Data © Google Earth Engine\",\n",
        "    name = name,\n",
        "    overlay = True,\n",
        "    control = True\n",
        "  ).add_to(self)\n",
        "\n",
        "# Add EE drawing method to folium.\n",
        "folium.Map.add_ee_layer = add_ee_layer"
      ],
      "execution_count": null,
      "outputs": []
    },
    {
      "cell_type": "code",
      "metadata": {
        "id": "xBdnGZKyNdc8"
      },
      "source": [
        "#Init KDD libraries\n",
        "\n",
        "%matplotlib inline\n",
        "\n",
        "import numpy as np\n",
        "import pandas as pd\n",
        "import sklearn"
      ],
      "execution_count": null,
      "outputs": []
    },
    {
      "cell_type": "code",
      "metadata": {
        "id": "CVN4wzMJeAcl"
      },
      "source": [
        "California = ee.Geometry.Rectangle(-124.18, 41.39, -114.35, 32.75)\n",
        "\n",
        "# Import our fire events as features\n",
        "modis_fires = ee.FeatureCollection('JRC/GWIS/GlobFire/v2/FinalPerimeters').filterBounds(California)\n",
        "# filter for only fires with greater than 10,000,000 square meters\n",
        "modis_fires = modis_fires.filter(ee.Filter.gt('area', 10000000))\n",
        "\n",
        "# Add a band for if this is a really big fire or not. \n",
        "# NOTE: We are using fire size as a proxy for severity\n",
        "massive_fire_threshold = 100000000\n",
        "# TODO: evaluate if this is an OK way of limiting (may be biased to north or south, or size, not sure how these are sorted before limit)\n",
        "massive_fires = modis_fires.filter(ee.Filter.gt('area', massive_fire_threshold)).limit(10).map(lambda f: f.set({'massive': 1}))  # 158 fires\n",
        "other_fires = modis_fires.filter(ee.Filter.lte('area', massive_fire_threshold)).limit(10).map(lambda f: f.set({'massive': 0}))   # 609 fires\n",
        "modis_fires = massive_fires.merge(other_fires)"
      ],
      "execution_count": 12,
      "outputs": []
    },
    {
      "cell_type": "code",
      "metadata": {
        "id": "fbyXzVeCCj1V"
      },
      "source": [
        "slo = ee.Geometry.Point([-120.4358, 35.3102])\n",
        "\n",
        "# Import ImageCollections\n",
        "landfire_prs = ee.Image(\"LANDFIRE/Fire/PRS/v1_2_0/CONUS\")\n",
        "landfire_evc = ee.Image(\"LANDFIRE/Vegetation/EVC/v1_4_0/CONUS\")\n",
        "\n",
        "composite = landfire_evc.addBands(landfire_prs)"
      ],
      "execution_count": 13,
      "outputs": []
    },
    {
      "cell_type": "code",
      "metadata": {
        "id": "voU9sEa4H0M2"
      },
      "source": [
        "n_train = 0.5\n",
        "n_val = 0.5\n",
        "bands = ['PRS', 'EVC']\n",
        "# split the data into training and test sets\n",
        "fire_image = ee.Image().byte().paint(modis_fires, 'massive').rename('massive')\n",
        "# final = composite.addBands(fire_image)\n",
        "# fire_image.getInfo()\n",
        "\n",
        "# final.getInfo()\n",
        "# data = composite.select(bands).sampleRegions(collection=modis_fires,\n",
        "#                                              properties=['massive'],\n",
        "#                                              scale=30,\n",
        "#                                              tileScale=16,\n",
        "#                                              projection='EPSG:3665',\n",
        "#                                              region=modis_fires.geometry())\n",
        "fire_points = fire_image.addBands(ee.Image.pixelLonLat()).stratifiedSample(\n",
        "                                                              numPoints=1000,\n",
        "                                                              classBand='massive',\n",
        "                                                              scale=30,\n",
        "                                                              region=modis_fires.geometry()).map(\n",
        "                                                                  lambda f: f.setGeometry(ee.Geometry.Point([f.get('longitude'), f.get('latitude')])))\n",
        "data = composite.sampleRegions(fire_points, properties=['massive'], scale=30, geometries=True)\n",
        "data = data.randomColumn(seed=0)\n",
        "temp = data.filter(ee.Filter.lt('random', 1-n_train))\n",
        "training = data.filter(ee.Filter.gte('random', 1-n_train))\n",
        "validation = temp.filter(ee.Filter.lt('random', (1-n_train)*n_val))\n",
        "testing = temp.filter(ee.Filter.gte('random', (1-n_train)*n_val))"
      ],
      "execution_count": 14,
      "outputs": []
    },
    {
      "cell_type": "code",
      "metadata": {
        "colab": {
          "base_uri": "https://localhost:8080/"
        },
        "id": "bbftuzxjJKPq",
        "outputId": "b2dc7fa7-7ac6-498b-891a-22b48e5b28d3"
      },
      "source": [
        "small_points = composite.sampleRegions(other_fires, geometries=True)\n",
        "classifier = ee.Classifier.smileNaiveBayes().train(features=training, classProperty='massive', inputProperties=bands)\n",
        "pred = small_points.classify(classifier)\n",
        "# pred.first().getInfo()\n",
        "pred.errorMatrix('massive', 'classification').accuracy().getInfo()"
      ],
      "execution_count": 33,
      "outputs": [
        {
          "output_type": "execute_result",
          "data": {
            "text/plain": [
              "0.8478358344713789"
            ]
          },
          "metadata": {
            "tags": []
          },
          "execution_count": 33
        }
      ]
    },
    {
      "cell_type": "code",
      "metadata": {
        "id": "C8U6WT-nWHRl",
        "colab": {
          "base_uri": "https://localhost:8080/",
          "height": 952
        },
        "outputId": "bc7cd2d0-94e0-4c5a-b46c-6392f5a3587c"
      },
      "source": [
        "# Set visualization parameters. I'm pretty sure min and max should track to the min and max values of the set at https://developers.google.com/earth-engine/datasets/catalog/LANDFIRE_Fire_PRS_v1_2_0#bands\n",
        "prs_viz_params = {\n",
        "    'bands': ['PRS']\n",
        "}\n",
        "\n",
        "evc_vis_params = {\n",
        "    'bands': ['EVC'],\n",
        "    'opacity': 0.5\n",
        "}\n",
        "fires_viz_params = {\n",
        "    'palette': ['#FF0000', '#0000FF'],\n",
        "    'min': 0,\n",
        "    'max': 1,\n",
        "    'opacity': 0.5\n",
        "}\n",
        "pred_viz_params = {\n",
        "    'palette': ['#FF0000', '#0000FF'],\n",
        "    'min': 0,\n",
        "    'max': 1,\n",
        "    'opacity': 0.5\n",
        "}\n",
        "\n",
        "# Create a folium map object.\n",
        "my_map = folium.Map(location=[35.3102, -120.4358], zoom_start=8)\n",
        "\n",
        "# Add the fire severity & existing vegetation type images to the map object.\n",
        "my_map.add_ee_layer(landfire_prs, prs_viz_params, 'Percent Replacement-Severity Fire')\n",
        "my_map.add_ee_layer(landfire_evc, evc_vis_params, 'Existing Vegetation Cover')\n",
        "my_map.add_ee_layer(fire_image, fires_viz_params, 'Fire Events')\n",
        "my_map.add_ee_layer(ee.Image().paint(pred, 'classification'), fires_viz_params, 'Predicted Events')\n",
        "\n",
        "# Add a layer control panel to the map.\n",
        "my_map.add_child(folium.LayerControl())\n",
        "\n",
        "# Display the map.\n",
        "display(my_map)"
      ],
      "execution_count": 32,
      "outputs": [
        {
          "output_type": "display_data",
          "data": {
            "text/html": [
              "<div style=\"width:100%;\"><div style=\"position:relative;width:100%;height:0;padding-bottom:60%;\"><span style=\"color:#565656\">Make this Notebook Trusted to load map: File -> Trust Notebook</span><iframe src=\"about:blank\" style=\"position:absolute;width:100%;height:100%;left:0;top:0;border:none !important;\" data-html=%3C%21DOCTYPE%20html%3E%0A%3Chead%3E%20%20%20%20%0A%20%20%20%20%3Cmeta%20http-equiv%3D%22content-type%22%20content%3D%22text/html%3B%20charset%3DUTF-8%22%20/%3E%0A%20%20%20%20%3Cscript%3EL_PREFER_CANVAS%3Dfalse%3B%20L_NO_TOUCH%3Dfalse%3B%20L_DISABLE_3D%3Dfalse%3B%3C/script%3E%0A%20%20%20%20%3Cscript%20src%3D%22https%3A//cdn.jsdelivr.net/npm/leaflet%401.4.0/dist/leaflet.js%22%3E%3C/script%3E%0A%20%20%20%20%3Cscript%20src%3D%22https%3A//code.jquery.com/jquery-1.12.4.min.js%22%3E%3C/script%3E%0A%20%20%20%20%3Cscript%20src%3D%22https%3A//maxcdn.bootstrapcdn.com/bootstrap/3.2.0/js/bootstrap.min.js%22%3E%3C/script%3E%0A%20%20%20%20%3Cscript%20src%3D%22https%3A//cdnjs.cloudflare.com/ajax/libs/Leaflet.awesome-markers/2.0.2/leaflet.awesome-markers.js%22%3E%3C/script%3E%0A%20%20%20%20%3Clink%20rel%3D%22stylesheet%22%20href%3D%22https%3A//cdn.jsdelivr.net/npm/leaflet%401.4.0/dist/leaflet.css%22/%3E%0A%20%20%20%20%3Clink%20rel%3D%22stylesheet%22%20href%3D%22https%3A//maxcdn.bootstrapcdn.com/bootstrap/3.2.0/css/bootstrap.min.css%22/%3E%0A%20%20%20%20%3Clink%20rel%3D%22stylesheet%22%20href%3D%22https%3A//maxcdn.bootstrapcdn.com/bootstrap/3.2.0/css/bootstrap-theme.min.css%22/%3E%0A%20%20%20%20%3Clink%20rel%3D%22stylesheet%22%20href%3D%22https%3A//maxcdn.bootstrapcdn.com/font-awesome/4.6.3/css/font-awesome.min.css%22/%3E%0A%20%20%20%20%3Clink%20rel%3D%22stylesheet%22%20href%3D%22https%3A//cdnjs.cloudflare.com/ajax/libs/Leaflet.awesome-markers/2.0.2/leaflet.awesome-markers.css%22/%3E%0A%20%20%20%20%3Clink%20rel%3D%22stylesheet%22%20href%3D%22https%3A//rawcdn.githack.com/python-visualization/folium/master/folium/templates/leaflet.awesome.rotate.css%22/%3E%0A%20%20%20%20%3Cstyle%3Ehtml%2C%20body%20%7Bwidth%3A%20100%25%3Bheight%3A%20100%25%3Bmargin%3A%200%3Bpadding%3A%200%3B%7D%3C/style%3E%0A%20%20%20%20%3Cstyle%3E%23map%20%7Bposition%3Aabsolute%3Btop%3A0%3Bbottom%3A0%3Bright%3A0%3Bleft%3A0%3B%7D%3C/style%3E%0A%20%20%20%20%0A%20%20%20%20%3Cmeta%20name%3D%22viewport%22%20content%3D%22width%3Ddevice-width%2C%0A%20%20%20%20%20%20%20%20initial-scale%3D1.0%2C%20maximum-scale%3D1.0%2C%20user-scalable%3Dno%22%20/%3E%0A%20%20%20%20%3Cstyle%3E%23map_6738b8cba31543d6ab4e367fc114a8f4%20%7B%0A%20%20%20%20%20%20%20%20position%3A%20relative%3B%0A%20%20%20%20%20%20%20%20width%3A%20100.0%25%3B%0A%20%20%20%20%20%20%20%20height%3A%20100.0%25%3B%0A%20%20%20%20%20%20%20%20left%3A%200.0%25%3B%0A%20%20%20%20%20%20%20%20top%3A%200.0%25%3B%0A%20%20%20%20%20%20%20%20%7D%0A%20%20%20%20%3C/style%3E%0A%3C/head%3E%0A%3Cbody%3E%20%20%20%20%0A%20%20%20%20%0A%20%20%20%20%3Cdiv%20class%3D%22folium-map%22%20id%3D%22map_6738b8cba31543d6ab4e367fc114a8f4%22%20%3E%3C/div%3E%0A%3C/body%3E%0A%3Cscript%3E%20%20%20%20%0A%20%20%20%20%0A%20%20%20%20%0A%20%20%20%20%20%20%20%20var%20bounds%20%3D%20null%3B%0A%20%20%20%20%0A%0A%20%20%20%20var%20map_6738b8cba31543d6ab4e367fc114a8f4%20%3D%20L.map%28%0A%20%20%20%20%20%20%20%20%27map_6738b8cba31543d6ab4e367fc114a8f4%27%2C%20%7B%0A%20%20%20%20%20%20%20%20center%3A%20%5B35.3102%2C%20-120.4358%5D%2C%0A%20%20%20%20%20%20%20%20zoom%3A%208%2C%0A%20%20%20%20%20%20%20%20maxBounds%3A%20bounds%2C%0A%20%20%20%20%20%20%20%20layers%3A%20%5B%5D%2C%0A%20%20%20%20%20%20%20%20worldCopyJump%3A%20false%2C%0A%20%20%20%20%20%20%20%20crs%3A%20L.CRS.EPSG3857%2C%0A%20%20%20%20%20%20%20%20zoomControl%3A%20true%2C%0A%20%20%20%20%20%20%20%20%7D%29%3B%0A%0A%0A%20%20%20%20%0A%20%20%20%20var%20tile_layer_9450d512d9f0402b8157c8ce9fbc915c%20%3D%20L.tileLayer%28%0A%20%20%20%20%20%20%20%20%27https%3A//%7Bs%7D.tile.openstreetmap.org/%7Bz%7D/%7Bx%7D/%7By%7D.png%27%2C%0A%20%20%20%20%20%20%20%20%7B%0A%20%20%20%20%20%20%20%20%22attribution%22%3A%20null%2C%0A%20%20%20%20%20%20%20%20%22detectRetina%22%3A%20false%2C%0A%20%20%20%20%20%20%20%20%22maxNativeZoom%22%3A%2018%2C%0A%20%20%20%20%20%20%20%20%22maxZoom%22%3A%2018%2C%0A%20%20%20%20%20%20%20%20%22minZoom%22%3A%200%2C%0A%20%20%20%20%20%20%20%20%22noWrap%22%3A%20false%2C%0A%20%20%20%20%20%20%20%20%22opacity%22%3A%201%2C%0A%20%20%20%20%20%20%20%20%22subdomains%22%3A%20%22abc%22%2C%0A%20%20%20%20%20%20%20%20%22tms%22%3A%20false%0A%7D%29.addTo%28map_6738b8cba31543d6ab4e367fc114a8f4%29%3B%0A%20%20%20%20var%20tile_layer_0627991c9f22405b91cce581b57b5d51%20%3D%20L.tileLayer%28%0A%20%20%20%20%20%20%20%20%27https%3A//earthengine.googleapis.com/v1alpha/projects/earthengine-legacy/maps/7e35a80997123526d7f07dac181d87f0-a169e0be7d145da0b572d6f997723370/tiles/%7Bz%7D/%7Bx%7D/%7By%7D%27%2C%0A%20%20%20%20%20%20%20%20%7B%0A%20%20%20%20%20%20%20%20%22attribution%22%3A%20%22Map%20Data%20%5Cu00a9%20Google%20Earth%20Engine%22%2C%0A%20%20%20%20%20%20%20%20%22detectRetina%22%3A%20false%2C%0A%20%20%20%20%20%20%20%20%22maxNativeZoom%22%3A%2018%2C%0A%20%20%20%20%20%20%20%20%22maxZoom%22%3A%2018%2C%0A%20%20%20%20%20%20%20%20%22minZoom%22%3A%200%2C%0A%20%20%20%20%20%20%20%20%22noWrap%22%3A%20false%2C%0A%20%20%20%20%20%20%20%20%22opacity%22%3A%201%2C%0A%20%20%20%20%20%20%20%20%22subdomains%22%3A%20%22abc%22%2C%0A%20%20%20%20%20%20%20%20%22tms%22%3A%20false%0A%7D%29.addTo%28map_6738b8cba31543d6ab4e367fc114a8f4%29%3B%0A%20%20%20%20var%20tile_layer_e270877bbf23453ca9d59d138b251887%20%3D%20L.tileLayer%28%0A%20%20%20%20%20%20%20%20%27https%3A//earthengine.googleapis.com/v1alpha/projects/earthengine-legacy/maps/8c3faf23b1852e6d76afa8e3879f5fd7-46563588ff9c0da426743a5a49e4b5eb/tiles/%7Bz%7D/%7Bx%7D/%7By%7D%27%2C%0A%20%20%20%20%20%20%20%20%7B%0A%20%20%20%20%20%20%20%20%22attribution%22%3A%20%22Map%20Data%20%5Cu00a9%20Google%20Earth%20Engine%22%2C%0A%20%20%20%20%20%20%20%20%22detectRetina%22%3A%20false%2C%0A%20%20%20%20%20%20%20%20%22maxNativeZoom%22%3A%2018%2C%0A%20%20%20%20%20%20%20%20%22maxZoom%22%3A%2018%2C%0A%20%20%20%20%20%20%20%20%22minZoom%22%3A%200%2C%0A%20%20%20%20%20%20%20%20%22noWrap%22%3A%20false%2C%0A%20%20%20%20%20%20%20%20%22opacity%22%3A%201%2C%0A%20%20%20%20%20%20%20%20%22subdomains%22%3A%20%22abc%22%2C%0A%20%20%20%20%20%20%20%20%22tms%22%3A%20false%0A%7D%29.addTo%28map_6738b8cba31543d6ab4e367fc114a8f4%29%3B%0A%20%20%20%20var%20tile_layer_da4a97870d764c3d87d7a0fa37205553%20%3D%20L.tileLayer%28%0A%20%20%20%20%20%20%20%20%27https%3A//earthengine.googleapis.com/v1alpha/projects/earthengine-legacy/maps/4090f70953eeef34025f88e1910c1ff3-dcc43ec3e557fa8879227a0fc1031e56/tiles/%7Bz%7D/%7Bx%7D/%7By%7D%27%2C%0A%20%20%20%20%20%20%20%20%7B%0A%20%20%20%20%20%20%20%20%22attribution%22%3A%20%22Map%20Data%20%5Cu00a9%20Google%20Earth%20Engine%22%2C%0A%20%20%20%20%20%20%20%20%22detectRetina%22%3A%20false%2C%0A%20%20%20%20%20%20%20%20%22maxNativeZoom%22%3A%2018%2C%0A%20%20%20%20%20%20%20%20%22maxZoom%22%3A%2018%2C%0A%20%20%20%20%20%20%20%20%22minZoom%22%3A%200%2C%0A%20%20%20%20%20%20%20%20%22noWrap%22%3A%20false%2C%0A%20%20%20%20%20%20%20%20%22opacity%22%3A%201%2C%0A%20%20%20%20%20%20%20%20%22subdomains%22%3A%20%22abc%22%2C%0A%20%20%20%20%20%20%20%20%22tms%22%3A%20false%0A%7D%29.addTo%28map_6738b8cba31543d6ab4e367fc114a8f4%29%3B%0A%20%20%20%20var%20tile_layer_f3117b85386042dcad36544ba87c2f8d%20%3D%20L.tileLayer%28%0A%20%20%20%20%20%20%20%20%27https%3A//earthengine.googleapis.com/v1alpha/projects/earthengine-legacy/maps/0519c6339e2aeffb276aa71d23ffd6cb-8a57af34a81a8c2975beeaaf0dfe5181/tiles/%7Bz%7D/%7Bx%7D/%7By%7D%27%2C%0A%20%20%20%20%20%20%20%20%7B%0A%20%20%20%20%20%20%20%20%22attribution%22%3A%20%22Map%20Data%20%5Cu00a9%20Google%20Earth%20Engine%22%2C%0A%20%20%20%20%20%20%20%20%22detectRetina%22%3A%20false%2C%0A%20%20%20%20%20%20%20%20%22maxNativeZoom%22%3A%2018%2C%0A%20%20%20%20%20%20%20%20%22maxZoom%22%3A%2018%2C%0A%20%20%20%20%20%20%20%20%22minZoom%22%3A%200%2C%0A%20%20%20%20%20%20%20%20%22noWrap%22%3A%20false%2C%0A%20%20%20%20%20%20%20%20%22opacity%22%3A%201%2C%0A%20%20%20%20%20%20%20%20%22subdomains%22%3A%20%22abc%22%2C%0A%20%20%20%20%20%20%20%20%22tms%22%3A%20false%0A%7D%29.addTo%28map_6738b8cba31543d6ab4e367fc114a8f4%29%3B%0A%20%20%20%20%0A%20%20%20%20%20%20%20%20%20%20%20%20var%20layer_control_cb2a52f781fd416ca5664fa1c904efd3%20%3D%20%7B%0A%20%20%20%20%20%20%20%20%20%20%20%20%20%20%20%20base_layers%20%3A%20%7B%20%22openstreetmap%22%20%3A%20tile_layer_9450d512d9f0402b8157c8ce9fbc915c%2C%20%7D%2C%0A%20%20%20%20%20%20%20%20%20%20%20%20%20%20%20%20overlays%20%3A%20%7B%20%22Percent%20Replacement-Severity%20Fire%22%20%3A%20tile_layer_0627991c9f22405b91cce581b57b5d51%2C%22Existing%20Vegetation%20Cover%22%20%3A%20tile_layer_e270877bbf23453ca9d59d138b251887%2C%22Fire%20Events%22%20%3A%20tile_layer_da4a97870d764c3d87d7a0fa37205553%2C%22Predicted%20Events%22%20%3A%20tile_layer_f3117b85386042dcad36544ba87c2f8d%2C%20%7D%0A%20%20%20%20%20%20%20%20%20%20%20%20%20%20%20%20%7D%3B%0A%20%20%20%20%20%20%20%20%20%20%20%20L.control.layers%28%0A%20%20%20%20%20%20%20%20%20%20%20%20%20%20%20%20layer_control_cb2a52f781fd416ca5664fa1c904efd3.base_layers%2C%0A%20%20%20%20%20%20%20%20%20%20%20%20%20%20%20%20layer_control_cb2a52f781fd416ca5664fa1c904efd3.overlays%2C%0A%20%20%20%20%20%20%20%20%20%20%20%20%20%20%20%20%7Bposition%3A%20%27topright%27%2C%0A%20%20%20%20%20%20%20%20%20%20%20%20%20%20%20%20%20collapsed%3A%20true%2C%0A%20%20%20%20%20%20%20%20%20%20%20%20%20%20%20%20%20autoZIndex%3A%20true%0A%20%20%20%20%20%20%20%20%20%20%20%20%20%20%20%20%7D%29.addTo%28map_6738b8cba31543d6ab4e367fc114a8f4%29%3B%0A%20%20%20%20%20%20%20%20%20%20%20%20%0A%20%20%20%20%20%20%20%20%0A%3C/script%3E onload=\"this.contentDocument.open();this.contentDocument.write(    decodeURIComponent(this.getAttribute('data-html')));this.contentDocument.close();\" allowfullscreen webkitallowfullscreen mozallowfullscreen></iframe></div></div>"
            ],
            "text/plain": [
              "<folium.folium.Map at 0x7fb8601cbfd0>"
            ]
          },
          "metadata": {
            "tags": []
          }
        }
      ]
    },
    {
      "cell_type": "code",
      "metadata": {
        "id": "gzn2WSzbpqIh"
      },
      "source": [
        "# Training\n",
        "\n",
        "training = landfire_evc.sampleRegions(landfire_evc)"
      ],
      "execution_count": null,
      "outputs": []
    }
  ]
}