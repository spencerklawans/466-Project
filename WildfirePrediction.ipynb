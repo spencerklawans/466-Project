{
  "nbformat": 4,
  "nbformat_minor": 0,
  "metadata": {
    "colab": {
      "name": "Untitled0.ipynb",
      "provenance": [],
      "collapsed_sections": [],
      "include_colab_link": true
    },
    "kernelspec": {
      "display_name": "Python 3",
      "language": "python",
      "name": "python3"
    },
    "language_info": {
      "codemirror_mode": {
        "name": "ipython",
        "version": 3
      },
      "file_extension": ".py",
      "mimetype": "text/x-python",
      "name": "python",
      "nbconvert_exporter": "python",
      "pygments_lexer": "ipython3",
      "version": "3.9.0"
    }
  },
  "cells": [
    {
      "cell_type": "markdown",
      "metadata": {
        "id": "view-in-github",
        "colab_type": "text"
      },
      "source": [
        "<a href=\"https://colab.research.google.com/github/spencerklawans/466-Project/blob/main/WildfirePrediction.ipynb\" target=\"_parent\"><img src=\"https://colab.research.google.com/assets/colab-badge.svg\" alt=\"Open In Colab\"/></a>"
      ]
    },
    {
      "cell_type": "markdown",
      "metadata": {
        "id": "s9UDzlSvImEE"
      },
      "source": [
        "# Wildfire Prediction\n",
        "Brought to you by Gooogle Earth Engine"
      ]
    },
    {
      "cell_type": "code",
      "metadata": {
        "id": "fcr4UrQgH2Vs"
      },
      "source": [
        "# Import libraries.\n",
        "import ee\n",
        "import folium\n",
        "\n",
        "# Trigger the authentication flow.\n",
        "ee.Authenticate()\n",
        "\n",
        "# Initialize the library.\n",
        "ee.Initialize()\n",
        "\n",
        "# Define a method for displaying Earth Engine image tiles to folium map.\n",
        "def add_ee_layer(self, ee_image_object, vis_params, name):\n",
        "  map_id_dict = ee.Image(ee_image_object).getMapId(vis_params)\n",
        "  folium.raster_layers.TileLayer(\n",
        "    tiles = map_id_dict['tile_fetcher'].url_format,\n",
        "    attr = \"Map Data © Google Earth Engine\",\n",
        "    name = name,\n",
        "    overlay = True,\n",
        "    control = True\n",
        "  ).add_to(self)\n",
        "\n",
        "# Add EE drawing method to folium.\n",
        "folium.Map.add_ee_layer = add_ee_layer"
      ],
      "execution_count": null,
      "outputs": []
    },
    {
      "cell_type": "code",
      "metadata": {
        "id": "xBdnGZKyNdc8"
      },
      "source": [
        "#Init KDD libraries\n",
        "\n",
        "%matplotlib inline\n",
        "\n",
        "import numpy as np\n",
        "import pandas as pd\n",
        "import sklearn"
      ],
      "execution_count": 78,
      "outputs": []
    },
    {
      "cell_type": "code",
      "metadata": {
        "id": "CVN4wzMJeAcl"
      },
      "source": [
        "California = ee.Geometry.Rectangle(-124.18, 41.39, -114.35, 32.75)\n",
        "\n",
        "# Import our fire events as features\n",
        "modis_fires = ee.FeatureCollection('JRC/GWIS/GlobFire/v2/FinalPerimeters').filterBounds(California)\n",
        "# filter for only fires with greater than 10,000,000 square meters\n",
        "modis_fires = modis_fires.filter(ee.Filter.gt('area', 10000000))\n",
        "\n",
        "# Add a band for if this is a really big fire or not. \n",
        "# NOTE: We are using fire size as a proxy for severity\n",
        "massive_fire_threshold = 100000000\n",
        "# TODO: evaluate if this is an OK way of limiting (may be biased to north or south, or size, not sure how these are sorted before limit)\n",
        "massive_fires = modis_fires.filter(ee.Filter.gt('area', massive_fire_threshold)).limit(10).map(lambda f: f.set({'massive': 1}))  # 158 fires\n",
        "other_fires = modis_fires.filter(ee.Filter.lte('area', massive_fire_threshold)).limit(10).map(lambda f: f.set({'massive': 0}))   # 609 fires\n",
        "modis_fires = massive_fires.merge(other_fires)"
      ],
      "execution_count": 79,
      "outputs": []
    },
    {
      "cell_type": "code",
      "metadata": {
        "id": "fbyXzVeCCj1V"
      },
      "source": [
        "slo = ee.Geometry.Point([-120.4358, 35.3102])\n",
        "\n",
        "# Import ImageCollections\n",
        "landfire_prs = ee.Image(\"LANDFIRE/Fire/PRS/v1_2_0/CONUS\")\n",
        "landfire_evc = ee.Image(\"LANDFIRE/Vegetation/EVC/v1_4_0/CONUS\")\n",
        "landfire_evh = ee.Image(\"LANDFIRE/Vegetation/EVH/v1_4_0/CONUS\")\n",
        "landfire_evt = ee.Image(\"LANDFIRE/Vegetation/EVT/v1_4_0/CONUS\")\n",
        "jaxa_temp = ee.ImageCollection(\"JAXA/GCOM-C/L3/LAND/LST/V1\")\n",
        "\n",
        "composite = landfire_evc.addBands(landfire_prs).addBands(landfire_evh).addBands(landfire_evt)"
      ],
      "execution_count": 80,
      "outputs": []
    },
    {
      "cell_type": "code",
      "metadata": {
        "id": "voU9sEa4H0M2"
      },
      "source": [
        "n_train = 0.5\n",
        "n_val = 0.5\n",
        "bands = ['PRS', 'EVC','EVH','EVT','LST_AVE']\n",
        "# split the data into training and test sets\n",
        "fire_image = ee.Image().byte().paint(modis_fires, 'massive').rename('massive')\n",
        "# fire_image2 = ee.Image().paint(modis_fires,'IntitalDate').rename('InitialDate')\n",
        "\n",
        "fire_image2 = modis_fires.reduceToImage(\n",
        "    properties = ['InitialDate'], \n",
        "    reducer = ee.Reducer.first())\n",
        "\n",
        "composite = composite.addBands(fire_image2)\n",
        "\n",
        "\n",
        "\n",
        "\n",
        "\n",
        "#fire_image = ee.Image().constant(modis_fires.first().toDictionary(props).values()).rename(props)\n",
        "\n",
        "#fire_image = ee.ImageCollection(modis_fires.map(lambda x :ee.Image().constant(x.toDictionary(props).values()).rename(props)))\n",
        "\n",
        "#print(fire_image.first().getInfo())\n",
        "# final = composite.addBands(fire_image)\n",
        "# fire_image.getInfo()\n",
        "\n",
        "# final.getInfo()\n",
        "# data = composite.select(bands).sampleRegions(collection=modis_fires,\n",
        "#                                              properties=['massive'],\n",
        "#                                              scale=30,\n",
        "#                                              tileScale=16,\n",
        "#                                              projection='EPSG:3665',\n",
        "#                                              region=modis_fires.geometry())\n",
        "fire_points = fire_image.addBands(ee.Image.pixelLonLat()).stratifiedSample(\n",
        "                                                              numPoints=10,\n",
        "                                                              classBand='massive',\n",
        "                                                              scale=30,\n",
        "                                                              region=modis_fires.geometry()).map(\n",
        "                                                                  lambda f: f.setGeometry(ee.Geometry.Point([f.get('longitude'), f.get('latitude')])))\n",
        "\n",
        "                                                              \n",
        "\n",
        "\n",
        "\n",
        "data = composite.sampleRegions(fire_points, properties=['massive'], scale=30, geometries=True)\n",
        "data = data.randomColumn(seed=0)\n",
        "\n",
        "# def getTempForDate(feature):\n",
        "#   date_filter = ee.Filter.date(0, feature.get('first'))\n",
        "#   tempImage = jaxa_temp.filter(date_filter).limit(1, 'system:time_start', False).first()\n",
        "#   return feature.set({\"jaxa_temp\": tempImage.sample(feature.geometry()).first().get('LST_AVE')})\n",
        "\n",
        "# data = data.map(getTempForDate)\n",
        "\n",
        "#massive_fires = modis_fires.filter(ee.Filter.gt('area', massive_fire_threshold)).limit(10).map(lambda f: f.set({'massive': 1})) \n",
        "\n",
        "temp = data.filter(ee.Filter.lt('random', 1-n_train))\n",
        "training = data.filter(ee.Filter.gte('random', 1-n_train))\n",
        "validation = temp.filter(ee.Filter.lt('random', (1-n_train)*n_val))\n",
        "testing = temp.filter(ee.Filter.gte('random', (1-n_train)*n_val))\n",
        "#fire_image.getInfo()\n",
        "#data.first().getInfo()\n",
        "#fire_image2.getInfo()\n",
        "#modis_fires.get('InitialDate').getInfo()\n",
        "\n",
        "#images = modis_fires.map(\n",
        "    #lambda f: ee.Image(ee.Number(f.get('InitialDate'))).rename('InitialDate'))\n",
        "\n",
        "#images.first().getInfo()\n",
        "#modis_fires.first().getInfo()\n",
        "\n",
        "\n",
        "# images.getInfo()\n",
        "#data.getInfo()"
      ],
      "execution_count": 82,
      "outputs": []
    },
    {
      "cell_type": "code",
      "metadata": {
        "id": "bbftuzxjJKPq"
      },
      "source": [
        "#small_points = composite.sampleRegions(other_fires, geometries=True)\n",
        "classifier = ee.Classifier.smileNaiveBayes().train(features=training, classProperty='massive', inputProperties=bands)\n",
        "pred = validation.classify(classifier)\n",
        "pred.first().getInfo()\n",
        "#pred.errorMatrix('massive', 'classification').accuracy().getInfo()"
      ],
      "execution_count": null,
      "outputs": []
    },
    {
      "cell_type": "code",
      "metadata": {
        "id": "C8U6WT-nWHRl"
      },
      "source": [
        "# Set visualization parameters. I'm pretty sure min and max should track to the min and max values of the set at https://developers.google.com/earth-engine/datasets/catalog/LANDFIRE_Fire_PRS_v1_2_0#bands\n",
        "prs_viz_params = {\n",
        "    'bands': ['PRS']\n",
        "}\n",
        "\n",
        "evc_vis_params = {\n",
        "    'bands': ['EVC'],\n",
        "    'opacity': 0.5\n",
        "}\n",
        "fires_viz_params = {\n",
        "    'bands': ['massive'],\n",
        "    'palette': ['#FF0000', '#0000FF'],\n",
        "     'min': 0,\n",
        "     'max': 1,\n",
        "     'opacity': 0.5\n",
        "}\n",
        "pred_viz_params = {\n",
        "    'palette': ['#FF0000', '#0000FF'],\n",
        "    'min': 0,\n",
        "    'max': 1,\n",
        "    'opacity': 0.5\n",
        "}\n",
        "\n",
        "# Create a folium map object.\n",
        "my_map = folium.Map(location=[35.3102, -120.4358], zoom_start=8)\n",
        "\n",
        "# Add the fire severity & existing vegetation type images to the map object.\n",
        "my_map.add_ee_layer(landfire_prs, prs_viz_params, 'Percent Replacement-Severity Fire')\n",
        "my_map.add_ee_layer(landfire_evc, evc_vis_params, 'Existing Vegetation Cover')\n",
        "my_map.add_ee_layer(fire_image, fires_viz_params, 'Fire Events')\n",
        "my_map.add_ee_layer(images, {\"bands\": ['first']}, 'ImageDate')\n",
        "#my_map.add_ee_layer(ee.Image().paint(pred, 'classification'), fires_viz_params, 'Predicted Events')\n",
        "\n",
        "# Add a layer control panel to the map.\n",
        "my_map.add_child(folium.LayerControl())\n",
        "\n",
        "# Display the map.\n",
        "display(my_map)"
      ],
      "execution_count": null,
      "outputs": []
    }
  ]
}