{
  "nbformat": 4,
  "nbformat_minor": 0,
  "metadata": {
    "colab": {
      "name": "Untitled0.ipynb",
      "provenance": [],
      "collapsed_sections": [],
      "toc_visible": true,
      "include_colab_link": true
    },
    "kernelspec": {
      "display_name": "Python 3",
      "language": "python",
      "name": "python3"
    },
    "language_info": {
      "codemirror_mode": {
        "name": "ipython",
        "version": 3
      },
      "file_extension": ".py",
      "mimetype": "text/x-python",
      "name": "python",
      "nbconvert_exporter": "python",
      "pygments_lexer": "ipython3",
      "version": "3.9.0"
    }
  },
  "cells": [
    {
      "cell_type": "markdown",
      "metadata": {
        "id": "view-in-github",
        "colab_type": "text"
      },
      "source": [
        "<a href=\"https://colab.research.google.com/github/spencerklawans/466-Project/blob/main/WildfirePrediction.ipynb\" target=\"_parent\"><img src=\"https://colab.research.google.com/assets/colab-badge.svg\" alt=\"Open In Colab\"/></a>"
      ]
    },
    {
      "cell_type": "markdown",
      "metadata": {
        "id": "s9UDzlSvImEE"
      },
      "source": [
        "# Wildfire Prediction\n",
        "By Spencer Klawans, Garrett Lew, and Will Fuchs\n",
        "\n",
        "Github: https://github.com/spencerklawans/466-Project"
      ]
    },
    {
      "cell_type": "markdown",
      "metadata": {
        "id": "wBt2QW6VfEe3"
      },
      "source": [
        "#Introduction\n",
        "The damage caused by wildfires is a current and pressing problem. Although wildfires are an important part of California’s ecosystem, the megafires of recent years are not. Megafires are detrimental both to California’s ecology, and its human residents. Megafires are attributed in part to California’s historic policy of complete wildfire suppression, which has allowed fuels to build up to dangerous levels. In addition, a warming climate and sustained drought conditions increase the likelihood of wildfires of any size. California cannot, and should not, attempt to prevent all wildfires, but what if the state could focus on preventing just the megafires? This report discusses a classifier, using Google Earth Engine, that can predict the severity of these wildfires. Using data about previous fires and what the area was like right before the fire, a model was trained to predict whether or not a fire would become a megafire. Specifically, a random forest model was trained on features such as vegetation coverage, wind speed, and temperature.\n",
        "This report also discusses the knowledge discovered from the data and the classifier, such as which features are important for predicting fire severity.\n"
      ]
    },
    {
      "cell_type": "markdown",
      "metadata": {
        "id": "iq8k2kh6fB8e"
      },
      "source": [
        "#Background and Terms\n",
        "Google Earth Engine was used to run all of the computation for this project. Here are some Google EE terms that are used throughout this report.\n",
        "Image - A raster of data over space. Each pixel represents a physical location on the Earth’s surface. Each pixel has numeric data associated with it. For example, the surface temperature of California on a given day would be stored in an Image.\n",
        "ImageCollection - A collection of Images, usually temporally distributed. For example, temperature data collected every day would be stored in an ImageCollection.\n",
        "Feature - A vector defined by lat/lon points, often with associated data. For example, the perimeters of wildfires with start date could be stored in a Feature.\n",
        "FeatureCollection - A collection of Features, with additional metadata. For example, all of the fires in California in the past 15 years could be stored in a FeatureCollection.\n"
      ]
    },
    {
      "cell_type": "markdown",
      "metadata": {
        "id": "Xv4preUYfOjD"
      },
      "source": [
        "#Dataset Definitions\n",
        "PRS - Percent Replacement Severity. The amount of replacement-severity fires relative to low- and mixed-severity fires under the presumed historical fire regime, and is defined as greater than 75 percent average top-kill within a typical fire perimeter for a given vegetation type\n",
        "EVT - Existing vegetation type, represents the current distribution of the terrestrial ecological systems classification, developed by NatureServe for the western hemisphere, through 2016\n",
        "EVC - Existing vegetation coverage, represents the vertically projected percent cover of the live canopy layer for a 30-m cell\n",
        "EVH - Existing vegetation height, represents the average height of the dominant vegetation for a 30-m cell\n",
        "ERA5 Daily - ERA5 DAILY provides aggregated values for each day for seven ERA5 climate reanalysis parameters: 2m air temperature, 2m dew point temperature, total precipitation, mean sea level pressure, surface pressure, 10m u-component of wind and 10m v-component of wind. Additionally, daily minimum and maximum air temperature at 2m has been calculated based on the hourly 2m air temperature data. Daily total precipitation values are given as daily sums. All other parameters are provided as daily averages.\n"
      ]
    },
    {
      "cell_type": "markdown",
      "metadata": {
        "id": "Y8SqBX1BiFZy"
      },
      "source": [
        "#Methods\n",
        "###Data selection\n",
        "Google Earth Engine Image datasets were examined and selected based on their perceived relevance to wildfire in California. Data were considered relevant if they dealt with environmental factors in California during our selected time range. The datasets were composited into a dataset that contains the selected features mapped onto sampled pixels of previous fires. Care was taken to ensure that temporal data is sampled from up to 5 days before the fire started. Points with no data available within 5 days of the start of the fire were discarded.\n",
        "\n",
        "###Model Selection\n",
        "Initial models trialled include naive Bayes, random forest, and gradient boosted tree. Gradient boosting and naive Bayes each performed poorly, averaging close to 50% accuracy. With only two classes, this is equivalent to randomly guessing. The untuned random forest averaged 64% accuracy with low amounts of false positives.\n",
        "\n",
        "###Model Training\n",
        "The random forest train dataset consisted of sampling 200 data points from a set of fires that contained equal amounts of massive and non-massive fires. The test dataset consisted of sampling fifty data points from a separate set of fires that contained equal amounts of massive and non-massive fires.\n",
        "Initially, both train and test datasets sampled points from the same set of massive and non-massive fires which led the classifiers to overfit the data. So the test and train sets were segregated into two sets of different non-overlapping fires. The training set consisted of seven massive fires and seven non-massive fires. The test set consisted of a completely different set of three massive and three non-massive fires.\n",
        "Therefore the train and test datasets were split 70-30.\n",
        "\n",
        "###Model Tuning\n",
        "The random forest classifier was tuned by building a series of classifiers with different parameters. First, the number of trees was changed. Sizes tested were 10, 50, 100, 150, and 300. The results were graphed, and a forest size of 100 was selected. Then, the maximum depth of the trees were restricted to reduce overfitting. A depth of 3 was determined to be optimal. The forest size to accuracy calculations were then re-run with this maximum depth to ensure that 100 was still the optimal size. \n"
      ]
    },
    {
      "cell_type": "code",
      "metadata": {
        "id": "fcr4UrQgH2Vs",
        "colab": {
          "base_uri": "https://localhost:8080/"
        },
        "outputId": "25f89848-6359-46b6-cb84-c2161f613c40"
      },
      "source": [
        "# Import libraries.\n",
        "import ee\n",
        "import folium\n",
        "\n",
        "# Trigger the authentication flow.\n",
        "ee.Authenticate()\n",
        "\n",
        "# Initialize the library.\n",
        "ee.Initialize()\n",
        "\n",
        "# Define a method for displaying Earth Engine image tiles to folium map.\n",
        "def add_ee_layer(self, ee_image_object, vis_params, name):\n",
        "  map_id_dict = ee.Image(ee_image_object).getMapId(vis_params)\n",
        "  folium.raster_layers.TileLayer(\n",
        "    tiles = map_id_dict['tile_fetcher'].url_format,\n",
        "    attr = \"Map Data © Google Earth Engine\",\n",
        "    name = name,\n",
        "    overlay = True,\n",
        "    control = True\n",
        "  ).add_to(self)\n",
        "\n",
        "# Add EE drawing method to folium.\n",
        "folium.Map.add_ee_layer = add_ee_layer"
      ],
      "execution_count": 1,
      "outputs": [
        {
          "output_type": "stream",
          "text": [
            "To authorize access needed by Earth Engine, open the following URL in a web browser and follow the instructions. If the web browser does not start automatically, please manually browse the URL below.\n",
            "\n",
            "    https://accounts.google.com/o/oauth2/auth?client_id=517222506229-vsmmajv00ul0bs7p89v5m89qs8eb9359.apps.googleusercontent.com&scope=https%3A%2F%2Fwww.googleapis.com%2Fauth%2Fearthengine+https%3A%2F%2Fwww.googleapis.com%2Fauth%2Fdevstorage.full_control&redirect_uri=urn%3Aietf%3Awg%3Aoauth%3A2.0%3Aoob&response_type=code&code_challenge=6stuhDhWkXzy3OeNnABGcg3wlEfkouqJi3fPuP2Atz8&code_challenge_method=S256\n",
            "\n",
            "The authorization workflow will generate a code, which you should paste in the box below. \n",
            "Enter verification code: 4/1AY0e-g4lGsRT4I8-nDMyE1MxpppoAwbQb86wRLwg1e60xQ-cB4F4Mih_ZuA\n",
            "\n",
            "Successfully saved authorization token.\n"
          ],
          "name": "stdout"
        }
      ]
    },
    {
      "cell_type": "code",
      "metadata": {
        "id": "xBdnGZKyNdc8"
      },
      "source": [
        "#Init KDD libraries\n",
        "\n",
        "%matplotlib inline\n",
        "\n",
        "import numpy as np\n",
        "import pandas as pd\n",
        "import sklearn\n",
        "import time\n",
        "import matplotlib.pyplot as plt"
      ],
      "execution_count": 2,
      "outputs": []
    },
    {
      "cell_type": "code",
      "metadata": {
        "id": "CVN4wzMJeAcl"
      },
      "source": [
        "California = ee.Geometry.Rectangle(-124.18, 41.39, -114.35, 32.75)\n",
        "earliestDataStart = '2014-09-01T00:00:00'\n",
        "# Import our fire events as features\n",
        "modis_fires = ee.FeatureCollection('JRC/GWIS/GlobFire/v2/FinalPerimeters').filterBounds(California).filter(ee.Filter.gte('InitialDate', ee.Date.millis(earliestDataStart)))\n",
        "# filter for only fires with greater than 10,000,000 square meters\n",
        "modis_fires = modis_fires.filter(ee.Filter.gt('area', 10000000)).randomColumn(seed=0)\n",
        "\n",
        "# Add a band for if this is a really big fire or not. \n",
        "# NOTE: We are using fire size as a proxy for severity\n",
        "massive_fire_threshold = 100000000\n",
        "massive_fires = modis_fires.filter(ee.Filter.gt('area', massive_fire_threshold)).limit(10, 'random').map(lambda f: f.set({'massive': 1}))  # 158 fires\n",
        "other_fires = modis_fires.filter(ee.Filter.lte('area', massive_fire_threshold)).limit(10, 'random').map(lambda f: f.set({'massive': 0}))   # 609 fires\n",
        "\n",
        "# split the fires into a test and training set\n",
        "massive_fires_test = massive_fires.limit(3, 'random', False)\n",
        "massive_fires_train = massive_fires.limit(7, 'random', True)\n",
        "other_fires_test = other_fires.limit(3, 'random', False)\n",
        "other_fires_train = other_fires.limit(7, 'random', True)\n",
        "\n",
        "modis_fires_train = massive_fires_train.merge(other_fires_train)\n",
        "modis_fires_test = massive_fires_test.merge(other_fires_test)\n",
        "modis_fires = modis_fires_train.merge(modis_fires_test)"
      ],
      "execution_count": 3,
      "outputs": []
    },
    {
      "cell_type": "code",
      "metadata": {
        "id": "fbyXzVeCCj1V"
      },
      "source": [
        "slo = ee.Geometry.Point([-120.4358, 35.3102])\n",
        "\n",
        "# Import ImageCollections\n",
        "landfire_prs = ee.Image(\"LANDFIRE/Fire/PRS/v1_2_0/CONUS\")\n",
        "landfire_evc = ee.Image(\"LANDFIRE/Vegetation/EVC/v1_4_0/CONUS\")\n",
        "landfire_evh = ee.Image(\"LANDFIRE/Vegetation/EVH/v1_4_0/CONUS\")\n",
        "landfire_evt = ee.Image(\"LANDFIRE/Vegetation/EVT/v1_4_0/CONUS\")\n",
        "daily_temp = ee.ImageCollection(\"ECMWF/ERA5/DAILY\").filterDate(earliestDataStart, '2021-01-01')\n",
        "\n",
        "fire_image2 = modis_fires.reduceToImage(\n",
        "    properties = ['InitialDate'], \n",
        "    reducer = ee.Reducer.first()).rename('InitialDate')\n",
        "\n",
        "composite = landfire_evc.addBands(landfire_prs).addBands(landfire_evh).addBands(landfire_evt).addBands(fire_image2)"
      ],
      "execution_count": 4,
      "outputs": []
    },
    {
      "cell_type": "code",
      "metadata": {
        "id": "voU9sEa4H0M2"
      },
      "source": [
        "bands = ['PRS', 'EVC','EVH','EVT','mean_temp', 'wind_speed']\n",
        "# split the data into training and test sets\n",
        "fire_image = ee.Image().byte().paint(modis_fires, 'massive').rename('massive')\n",
        "\n",
        "fire_points_train = fire_image.addBands(ee.Image.pixelLonLat()).stratifiedSample(\n",
        "                                                              numPoints=200,\n",
        "                                                              classBand='massive',\n",
        "                                                              scale=30,\n",
        "                                                              region=modis_fires_train.geometry()).map(\n",
        "                                                                  lambda f: f.setGeometry(ee.Geometry.Point([f.get('longitude'), f.get('latitude')])))\n",
        "                                                              \n",
        "fire_points_test = fire_image.addBands(ee.Image.pixelLonLat()).stratifiedSample(\n",
        "                                                              numPoints=50,\n",
        "                                                              classBand='massive',\n",
        "                                                              scale=30,\n",
        "                                                              region=modis_fires_test.geometry()).map(\n",
        "                                                                  lambda f: f.setGeometry(ee.Geometry.Point([f.get('longitude'), f.get('latitude')])))\n",
        "\n",
        "                                                              \n",
        "\n",
        "\n",
        "\n",
        "data = composite.sampleRegions(fire_points_train, properties=['massive'], scale=30, geometries=True)\n",
        "data_test = composite.sampleRegions(fire_points_test, properties=['massive'], scale=30, geometries=True)\n",
        "\n",
        "\n",
        "def getTempForDate(feature):\n",
        "  initial_date = feature.get('InitialDate')\n",
        "  date_filter = ee.Filter.lte('system:time_start', initial_date)\n",
        "  tempImage = daily_temp.filter(date_filter).limit(1, 'system:time_start', False).first()\n",
        "  tempImageSample = tempImage.sample(feature.geometry()).first()\n",
        "  u_wind = ee.Number(tempImageSample.get('u_component_of_wind_10m'))\n",
        "  v_wind = ee.Number(tempImageSample.get('u_component_of_wind_10m'))\n",
        "  return feature.set({\n",
        "      \"mean_temp\": tempImageSample.get('mean_2m_air_temperature'),\n",
        "      \"wind_speed\": (u_wind.pow(2).add(v_wind.pow(2))).sqrt(),\n",
        "      \"date_offset\": ee.Number(initial_date).subtract(tempImage.get('system:time_start'))\n",
        "      })\n",
        "\n",
        "\n",
        "five_days_millis = 432000000\n",
        "# Get most recent temp data within the past 5 days \n",
        "data = data.map(getTempForDate).filter(ee.Filter.lte('date_offset', five_days_millis))\n",
        "data_test = data_test.map(getTempForDate).filter(ee.Filter.lte('date_offset', five_days_millis))"
      ],
      "execution_count": 5,
      "outputs": []
    },
    {
      "cell_type": "code",
      "metadata": {
        "id": "FeaFNKw7rULw"
      },
      "source": [
        "#Outdated method because the training/test used the same set of fires\n",
        "n_train = 0.6\n",
        "n_val = 0.5\n",
        "temp = data.filter(ee.Filter.lt('random', 1-n_train))\n",
        "training = data.filter(ee.Filter.gte('random', 1-n_train))\n",
        "validation = temp.filter(ee.Filter.lt('random', (1-n_train)*n_val))\n",
        "testing = temp.filter(ee.Filter.gte('random', (1-n_train)*n_val))"
      ],
      "execution_count": 6,
      "outputs": []
    },
    {
      "cell_type": "code",
      "metadata": {
        "id": "bbftuzxjJKPq"
      },
      "source": [
        "#small_points = composite.sampleRegions(other_fires, geometries=True)\n",
        "classifier = ee.Classifier.smileRandomForest(100).train(features=data, classProperty='massive', inputProperties=bands)\n",
        "pred = data_test.classify(classifier)"
      ],
      "execution_count": 7,
      "outputs": []
    },
    {
      "cell_type": "markdown",
      "metadata": {
        "id": "aXq6XahgiVnS"
      },
      "source": [
        "#Results\n",
        "After training the random forest model, an accuracy of 84% was achieved. Upon closer inspection of the confusion matrix, of the incorrect guesses, most of them were false positives. When it comes to predicting fire severity, this is much more favorable than false negatives as falsely assuming a fire will get big is better than assuming it won’t.\n"
      ]
    },
    {
      "cell_type": "code",
      "metadata": {
        "id": "gnkWPTk3CAbh",
        "colab": {
          "base_uri": "https://localhost:8080/"
        },
        "outputId": "d17959c4-3d0b-4556-d4e2-e662a5dd3f2b"
      },
      "source": [
        "accuracy = pred.errorMatrix('massive', 'classification')\n",
        "print(accuracy.getInfo())\n"
      ],
      "execution_count": 8,
      "outputs": [
        {
          "output_type": "stream",
          "text": [
            "[[49, 1], [32, 18]]\n"
          ],
          "name": "stdout"
        }
      ]
    },
    {
      "cell_type": "code",
      "metadata": {
        "id": "e7vm77FMSaWz",
        "colab": {
          "base_uri": "https://localhost:8080/"
        },
        "outputId": "278bf3c6-d4cc-4ae6-ac66-bd9fc941c7a9"
      },
      "source": [
        "accuracies = {}\n",
        "importances = {}\n",
        "for n_trees in [10, 50, 100, 150, 300]:\n",
        "  classifier = ee.Classifier.smileRandomForest(n_trees, maxNodes=3).train(features=data, classProperty='massive', inputProperties=bands)\n",
        "  pred = data_test.classify(classifier)\n",
        "  # print(pred.errorMatrix('massive', 'classification').getInfo())\n",
        "  # print(classifier.explain().getInfo())\n",
        "  importances[n_trees] = classifier.explain().getInfo()['importance']\n",
        "  accuracies[n_trees] = pred.errorMatrix('massive', 'classification').accuracy().getInfo()\n",
        "\n",
        "importances"
      ],
      "execution_count": 9,
      "outputs": [
        {
          "output_type": "execute_result",
          "data": {
            "text/plain": [
              "{10: {'EVC': 0,\n",
              "  'EVH': 0.09820491352753963,\n",
              "  'EVT': 0.10453234171346235,\n",
              "  'PRS': 0.664665059763864,\n",
              "  'mean_temp': 1.5001365185873166,\n",
              "  'wind_speed': 0.8801275976310734},\n",
              " 50: {'EVC': 0.05587848764210723,\n",
              "  'EVH': 0.9399936492023097,\n",
              "  'EVT': 0.12513388196701788,\n",
              "  'PRS': 2.1408585108805354,\n",
              "  'mean_temp': 5.910780642427078,\n",
              "  'wind_speed': 6.405630570551798},\n",
              " 100: {'EVC': 0.12796169914383232,\n",
              "  'EVH': 1.3757149796679293,\n",
              "  'EVT': 0.5070584180255019,\n",
              "  'PRS': 4.246835885821979,\n",
              "  'mean_temp': 12.591717258017155,\n",
              "  'wind_speed': 12.972651105428907},\n",
              " 150: {'EVC': 0.16455741194760914,\n",
              "  'EVH': 2.5331906043307364,\n",
              "  'EVT': 0.7390129482039207,\n",
              "  'PRS': 6.037624149418604,\n",
              "  'mean_temp': 18.215467953881802,\n",
              "  'wind_speed': 18.402336127475486},\n",
              " 300: {'EVC': 0.5396529702625095,\n",
              "  'EVH': 4.648168359064384,\n",
              "  'EVT': 1.1001874658941735,\n",
              "  'PRS': 13.283792960623636,\n",
              "  'mean_temp': 34.874384975778824,\n",
              "  'wind_speed': 35.394789860995544}}"
            ]
          },
          "metadata": {
            "tags": []
          },
          "execution_count": 9
        }
      ]
    },
    {
      "cell_type": "code",
      "metadata": {
        "id": "2G9Fm0FDXzpk",
        "colab": {
          "base_uri": "https://localhost:8080/",
          "height": 297
        },
        "outputId": "c3f65dd1-3647-475a-be2d-2086ad5334ac"
      },
      "source": [
        "plt.style.use('dark_background')\n",
        "plt.plot([x for x in accuracies.keys()], [x for x in accuracies.values()])\n",
        "plt.xlabel('n_trees')\n",
        "plt.ylabel('accuracy')\n"
      ],
      "execution_count": 10,
      "outputs": [
        {
          "output_type": "execute_result",
          "data": {
            "text/plain": [
              "Text(0, 0.5, 'accuracy')"
            ]
          },
          "metadata": {
            "tags": []
          },
          "execution_count": 10
        },
        {
          "output_type": "display_data",
          "data": {
            "image/png": "[encoded data removed]",
            "text/plain": [
              "<Figure size 432x288 with 1 Axes>"
            ]
          },
          "metadata": {
            "tags": []
          }
        }
      ]
    },
    {
      "cell_type": "code",
      "metadata": {
        "id": "srCzMgGdZvqc",
        "colab": {
          "base_uri": "https://localhost:8080/"
        },
        "outputId": "01786052-7b4b-4544-d71d-f111d118c165"
      },
      "source": [
        "classifier = ee.Classifier.smileRandomForest(100, maxNodes=3).train(features=data, classProperty='massive', inputProperties=bands)\n",
        "pred = data_test.classify(classifier)\n",
        "pred.errorMatrix('massive', 'classification').getInfo()"
      ],
      "execution_count": 11,
      "outputs": [
        {
          "output_type": "execute_result",
          "data": {
            "text/plain": [
              "[[47, 3], [13, 37]]"
            ]
          },
          "metadata": {
            "tags": []
          },
          "execution_count": 11
        }
      ]
    },
    {
      "cell_type": "markdown",
      "metadata": {
        "id": "-9doSaptiaLB"
      },
      "source": [
        "#KDD\n",
        "After getting the results from the random forest model, importances were then looked into. It was found that the following were the most important to least important features: Wind speed, mean_temp, PRS, EVT, EVC, EVH. It's good to note that wind speed and temperature had relatively high importance scores compared to other attributes. This means that the largest predictor of wildfire severity is not directly in human control. It is possible that daily temperature is not a cause, but a proxy for a cause. It is likely that seasonal weather patterns are more important than daily information. Vegetation dryness increases during summer months, due in part to high winds and high temperatures. Daily temperature could be a proxy for month of the year, and the high importance of temperature could simply mean that wildfires are more likely to become megafires in summer.\n",
        "\n"
      ]
    },
    {
      "cell_type": "code",
      "metadata": {
        "id": "swWublhhZjOu",
        "colab": {
          "base_uri": "https://localhost:8080/"
        },
        "outputId": "e85c99fa-dd19-494b-f64a-8e06e3c4a059"
      },
      "source": [
        "# pred.errorMatrix('massive', 'classification').accuracy().getInfo()\n",
        "classifier.explain().getInfo()['importance']"
      ],
      "execution_count": 12,
      "outputs": [
        {
          "output_type": "execute_result",
          "data": {
            "text/plain": [
              "{'EVC': 0.12796169914383232,\n",
              " 'EVH': 1.3757149796679293,\n",
              " 'EVT': 0.5070584180255019,\n",
              " 'PRS': 4.246835885821979,\n",
              " 'mean_temp': 12.591717258017155,\n",
              " 'wind_speed': 12.972651105428907}"
            ]
          },
          "metadata": {
            "tags": []
          },
          "execution_count": 12
        }
      ]
    },
    {
      "cell_type": "markdown",
      "metadata": {
        "id": "Rq6ZGSXsRTQu"
      },
      "source": [
        "# Vizualizing the results"
      ]
    },
    {
      "cell_type": "code",
      "metadata": {
        "id": "C8U6WT-nWHRl",
        "colab": {
          "base_uri": "https://localhost:8080/",
          "height": 587
        },
        "outputId": "611e0783-f3eb-4e99-bc5d-21404a513204"
      },
      "source": [
        "# Set visualization parameters. I'm pretty sure min and max should track to the min and max values of the set at https://developers.google.com/earth-engine/datasets/catalog/LANDFIRE_Fire_PRS_v1_2_0#bands\n",
        "prs_viz_params = {\n",
        "    'bands': ['PRS']\n",
        "}\n",
        "\n",
        "evc_vis_params = {\n",
        "    'bands': ['EVC'],\n",
        "    'opacity': 0.5\n",
        "}\n",
        "fires_viz_params = {\n",
        "    'bands': ['massive'],\n",
        "    'palette': ['#FF0000', '#0000FF'],\n",
        "     'min': 0,\n",
        "     'max': 1,\n",
        "     'opacity': 0.5\n",
        "}\n",
        "pred_viz_params = {\n",
        "    'palette': ['#FF0000', '#0000FF'],\n",
        "    'min': 0,\n",
        "    'max': 1,\n",
        "    'opacity': 0.5\n",
        "}\n",
        "\n",
        "# Create a folium map object.\n",
        "my_map = folium.Map(location=[35.3102, -120.4358], zoom_start=8)\n",
        "\n",
        "# Add the fire severity & existing vegetation type images to the map object.\n",
        "my_map.add_ee_layer(landfire_prs, prs_viz_params, 'Percent Replacement-Severity Fire')\n",
        "my_map.add_ee_layer(landfire_evc, evc_vis_params, 'Existing Vegetation Cover')\n",
        "my_map.add_ee_layer(fire_image, fires_viz_params, 'Fire Events')\n",
        "my_map.add_ee_layer(ee.Image().paint(pred, 'classification'), pred_viz_params, 'Predicted Events')\n",
        "\n",
        "# Add a layer control panel to the map.\n",
        "my_map.add_child(folium.LayerControl())\n",
        "\n",
        "# Display the map.\n",
        "display(my_map)"
      ],
      "execution_count": null,
      "outputs": [
        {
          "output_type": "display_data",
          "data": {
            "text/html": [
              "<div style=\"width:100%;\"><div style=\"position:relative;width:100%;height:0;padding-bottom:60%;\"><span style=\"color:#565656\">Make this Notebook Trusted to load map: File -> Trust Notebook</span><iframe src=\"about:blank\" style=\"position:absolute;width:100%;height:100%;left:0;top:0;border:none !important;\" data-html=%3C%21DOCTYPE%20html%3E%0A%3Chead%3E%20%20%20%20%0A%20%20%20%20%3Cmeta%20http-equiv%3D%22content-type%22%20content%3D%22text/html%3B%20charset%3DUTF-8%22%20/%3E%0A%20%20%20%20%3Cscript%3EL_PREFER_CANVAS%3Dfalse%3B%20L_NO_TOUCH%3Dfalse%3B%20L_DISABLE_3D%3Dfalse%3B%3C/script%3E%0A%20%20%20%20%3Cscript%20src%3D%22https%3A//cdn.jsdelivr.net/npm/leaflet%401.4.0/dist/leaflet.js%22%3E%3C/script%3E%0A%20%20%20%20%3Cscript%20src%3D%22https%3A//code.jquery.com/jquery-1.12.4.min.js%22%3E%3C/script%3E%0A%20%20%20%20%3Cscript%20src%3D%22https%3A//maxcdn.bootstrapcdn.com/bootstrap/3.2.0/js/bootstrap.min.js%22%3E%3C/script%3E%0A%20%20%20%20%3Cscript%20src%3D%22https%3A//cdnjs.cloudflare.com/ajax/libs/Leaflet.awesome-markers/2.0.2/leaflet.awesome-markers.js%22%3E%3C/script%3E%0A%20%20%20%20%3Clink%20rel%3D%22stylesheet%22%20href%3D%22https%3A//cdn.jsdelivr.net/npm/leaflet%401.4.0/dist/leaflet.css%22/%3E%0A%20%20%20%20%3Clink%20rel%3D%22stylesheet%22%20href%3D%22https%3A//maxcdn.bootstrapcdn.com/bootstrap/3.2.0/css/bootstrap.min.css%22/%3E%0A%20%20%20%20%3Clink%20rel%3D%22stylesheet%22%20href%3D%22https%3A//maxcdn.bootstrapcdn.com/bootstrap/3.2.0/css/bootstrap-theme.min.css%22/%3E%0A%20%20%20%20%3Clink%20rel%3D%22stylesheet%22%20href%3D%22https%3A//maxcdn.bootstrapcdn.com/font-awesome/4.6.3/css/font-awesome.min.css%22/%3E%0A%20%20%20%20%3Clink%20rel%3D%22stylesheet%22%20href%3D%22https%3A//cdnjs.cloudflare.com/ajax/libs/Leaflet.awesome-markers/2.0.2/leaflet.awesome-markers.css%22/%3E%0A%20%20%20%20%3Clink%20rel%3D%22stylesheet%22%20href%3D%22https%3A//rawcdn.githack.com/python-visualization/folium/master/folium/templates/leaflet.awesome.rotate.css%22/%3E%0A%20%20%20%20%3Cstyle%3Ehtml%2C%20body%20%7Bwidth%3A%20100%25%3Bheight%3A%20100%25%3Bmargin%3A%200%3Bpadding%3A%200%3B%7D%3C/style%3E%0A%20%20%20%20%3Cstyle%3E%23map%20%7Bposition%3Aabsolute%3Btop%3A0%3Bbottom%3A0%3Bright%3A0%3Bleft%3A0%3B%7D%3C/style%3E%0A%20%20%20%20%0A%20%20%20%20%3Cmeta%20name%3D%22viewport%22%20content%3D%22width%3Ddevice-width%2C%0A%20%20%20%20%20%20%20%20initial-scale%3D1.0%2C%20maximum-scale%3D1.0%2C%20user-scalable%3Dno%22%20/%3E%0A%20%20%20%20%3Cstyle%3E%23map_39cbf2b2049048a99a7c48217a8273b0%20%7B%0A%20%20%20%20%20%20%20%20position%3A%20relative%3B%0A%20%20%20%20%20%20%20%20width%3A%20100.0%25%3B%0A%20%20%20%20%20%20%20%20height%3A%20100.0%25%3B%0A%20%20%20%20%20%20%20%20left%3A%200.0%25%3B%0A%20%20%20%20%20%20%20%20top%3A%200.0%25%3B%0A%20%20%20%20%20%20%20%20%7D%0A%20%20%20%20%3C/style%3E%0A%3C/head%3E%0A%3Cbody%3E%20%20%20%20%0A%20%20%20%20%0A%20%20%20%20%3Cdiv%20class%3D%22folium-map%22%20id%3D%22map_39cbf2b2049048a99a7c48217a8273b0%22%20%3E%3C/div%3E%0A%3C/body%3E%0A%3Cscript%3E%20%20%20%20%0A%20%20%20%20%0A%20%20%20%20%0A%20%20%20%20%20%20%20%20var%20bounds%20%3D%20null%3B%0A%20%20%20%20%0A%0A%20%20%20%20var%20map_39cbf2b2049048a99a7c48217a8273b0%20%3D%20L.map%28%0A%20%20%20%20%20%20%20%20%27map_39cbf2b2049048a99a7c48217a8273b0%27%2C%20%7B%0A%20%20%20%20%20%20%20%20center%3A%20%5B35.3102%2C%20-120.4358%5D%2C%0A%20%20%20%20%20%20%20%20zoom%3A%208%2C%0A%20%20%20%20%20%20%20%20maxBounds%3A%20bounds%2C%0A%20%20%20%20%20%20%20%20layers%3A%20%5B%5D%2C%0A%20%20%20%20%20%20%20%20worldCopyJump%3A%20false%2C%0A%20%20%20%20%20%20%20%20crs%3A%20L.CRS.EPSG3857%2C%0A%20%20%20%20%20%20%20%20zoomControl%3A%20true%2C%0A%20%20%20%20%20%20%20%20%7D%29%3B%0A%0A%0A%20%20%20%20%0A%20%20%20%20var%20tile_layer_4b104a4c62ec4923a1ce9d82b1883526%20%3D%20L.tileLayer%28%0A%20%20%20%20%20%20%20%20%27https%3A//%7Bs%7D.tile.openstreetmap.org/%7Bz%7D/%7Bx%7D/%7By%7D.png%27%2C%0A%20%20%20%20%20%20%20%20%7B%0A%20%20%20%20%20%20%20%20%22attribution%22%3A%20null%2C%0A%20%20%20%20%20%20%20%20%22detectRetina%22%3A%20false%2C%0A%20%20%20%20%20%20%20%20%22maxNativeZoom%22%3A%2018%2C%0A%20%20%20%20%20%20%20%20%22maxZoom%22%3A%2018%2C%0A%20%20%20%20%20%20%20%20%22minZoom%22%3A%200%2C%0A%20%20%20%20%20%20%20%20%22noWrap%22%3A%20false%2C%0A%20%20%20%20%20%20%20%20%22opacity%22%3A%201%2C%0A%20%20%20%20%20%20%20%20%22subdomains%22%3A%20%22abc%22%2C%0A%20%20%20%20%20%20%20%20%22tms%22%3A%20false%0A%7D%29.addTo%28map_39cbf2b2049048a99a7c48217a8273b0%29%3B%0A%20%20%20%20var%20tile_layer_f5d0b553eaf24d818efc3aa58909f463%20%3D%20L.tileLayer%28%0A%20%20%20%20%20%20%20%20%27https%3A//earthengine.googleapis.com/v1alpha/projects/earthengine-legacy/maps/7e35a80997123526d7f07dac181d87f0-4d10f4815b4591a91be715ead0f87ed2/tiles/%7Bz%7D/%7Bx%7D/%7By%7D%27%2C%0A%20%20%20%20%20%20%20%20%7B%0A%20%20%20%20%20%20%20%20%22attribution%22%3A%20%22Map%20Data%20%5Cu00a9%20Google%20Earth%20Engine%22%2C%0A%20%20%20%20%20%20%20%20%22detectRetina%22%3A%20false%2C%0A%20%20%20%20%20%20%20%20%22maxNativeZoom%22%3A%2018%2C%0A%20%20%20%20%20%20%20%20%22maxZoom%22%3A%2018%2C%0A%20%20%20%20%20%20%20%20%22minZoom%22%3A%200%2C%0A%20%20%20%20%20%20%20%20%22noWrap%22%3A%20false%2C%0A%20%20%20%20%20%20%20%20%22opacity%22%3A%201%2C%0A%20%20%20%20%20%20%20%20%22subdomains%22%3A%20%22abc%22%2C%0A%20%20%20%20%20%20%20%20%22tms%22%3A%20false%0A%7D%29.addTo%28map_39cbf2b2049048a99a7c48217a8273b0%29%3B%0A%20%20%20%20var%20tile_layer_7dcd32a3b62a4b68a839cd269206ddf5%20%3D%20L.tileLayer%28%0A%20%20%20%20%20%20%20%20%27https%3A//earthengine.googleapis.com/v1alpha/projects/earthengine-legacy/maps/8c3faf23b1852e6d76afa8e3879f5fd7-8e6116ec8f6b9a208cc0fe921f4f9cf0/tiles/%7Bz%7D/%7Bx%7D/%7By%7D%27%2C%0A%20%20%20%20%20%20%20%20%7B%0A%20%20%20%20%20%20%20%20%22attribution%22%3A%20%22Map%20Data%20%5Cu00a9%20Google%20Earth%20Engine%22%2C%0A%20%20%20%20%20%20%20%20%22detectRetina%22%3A%20false%2C%0A%20%20%20%20%20%20%20%20%22maxNativeZoom%22%3A%2018%2C%0A%20%20%20%20%20%20%20%20%22maxZoom%22%3A%2018%2C%0A%20%20%20%20%20%20%20%20%22minZoom%22%3A%200%2C%0A%20%20%20%20%20%20%20%20%22noWrap%22%3A%20false%2C%0A%20%20%20%20%20%20%20%20%22opacity%22%3A%201%2C%0A%20%20%20%20%20%20%20%20%22subdomains%22%3A%20%22abc%22%2C%0A%20%20%20%20%20%20%20%20%22tms%22%3A%20false%0A%7D%29.addTo%28map_39cbf2b2049048a99a7c48217a8273b0%29%3B%0A%20%20%20%20var%20tile_layer_15c0c50ddc43478386f3e1bf1481c3aa%20%3D%20L.tileLayer%28%0A%20%20%20%20%20%20%20%20%27https%3A//earthengine.googleapis.com/v1alpha/projects/earthengine-legacy/maps/f3eac0553b80c9e3ba4ab504b5c940a5-5f5cebecaef3595eb1b0a45b31d818e3/tiles/%7Bz%7D/%7Bx%7D/%7By%7D%27%2C%0A%20%20%20%20%20%20%20%20%7B%0A%20%20%20%20%20%20%20%20%22attribution%22%3A%20%22Map%20Data%20%5Cu00a9%20Google%20Earth%20Engine%22%2C%0A%20%20%20%20%20%20%20%20%22detectRetina%22%3A%20false%2C%0A%20%20%20%20%20%20%20%20%22maxNativeZoom%22%3A%2018%2C%0A%20%20%20%20%20%20%20%20%22maxZoom%22%3A%2018%2C%0A%20%20%20%20%20%20%20%20%22minZoom%22%3A%200%2C%0A%20%20%20%20%20%20%20%20%22noWrap%22%3A%20false%2C%0A%20%20%20%20%20%20%20%20%22opacity%22%3A%201%2C%0A%20%20%20%20%20%20%20%20%22subdomains%22%3A%20%22abc%22%2C%0A%20%20%20%20%20%20%20%20%22tms%22%3A%20false%0A%7D%29.addTo%28map_39cbf2b2049048a99a7c48217a8273b0%29%3B%0A%20%20%20%20var%20tile_layer_ef2ba2e52281439391597a3ffc24dd55%20%3D%20L.tileLayer%28%0A%20%20%20%20%20%20%20%20%27https%3A//earthengine.googleapis.com/v1alpha/projects/earthengine-legacy/maps/aeddd66be2f050514f3a0713ba524ee5-04facc31c740fc9e2ae40cc15d7ccac9/tiles/%7Bz%7D/%7Bx%7D/%7By%7D%27%2C%0A%20%20%20%20%20%20%20%20%7B%0A%20%20%20%20%20%20%20%20%22attribution%22%3A%20%22Map%20Data%20%5Cu00a9%20Google%20Earth%20Engine%22%2C%0A%20%20%20%20%20%20%20%20%22detectRetina%22%3A%20false%2C%0A%20%20%20%20%20%20%20%20%22maxNativeZoom%22%3A%2018%2C%0A%20%20%20%20%20%20%20%20%22maxZoom%22%3A%2018%2C%0A%20%20%20%20%20%20%20%20%22minZoom%22%3A%200%2C%0A%20%20%20%20%20%20%20%20%22noWrap%22%3A%20false%2C%0A%20%20%20%20%20%20%20%20%22opacity%22%3A%201%2C%0A%20%20%20%20%20%20%20%20%22subdomains%22%3A%20%22abc%22%2C%0A%20%20%20%20%20%20%20%20%22tms%22%3A%20false%0A%7D%29.addTo%28map_39cbf2b2049048a99a7c48217a8273b0%29%3B%0A%20%20%20%20%0A%20%20%20%20%20%20%20%20%20%20%20%20var%20layer_control_45bc823fcb584aea8817bc8416676a6c%20%3D%20%7B%0A%20%20%20%20%20%20%20%20%20%20%20%20%20%20%20%20base_layers%20%3A%20%7B%20%22openstreetmap%22%20%3A%20tile_layer_4b104a4c62ec4923a1ce9d82b1883526%2C%20%7D%2C%0A%20%20%20%20%20%20%20%20%20%20%20%20%20%20%20%20overlays%20%3A%20%7B%20%22Percent%20Replacement-Severity%20Fire%22%20%3A%20tile_layer_f5d0b553eaf24d818efc3aa58909f463%2C%22Existing%20Vegetation%20Cover%22%20%3A%20tile_layer_7dcd32a3b62a4b68a839cd269206ddf5%2C%22Fire%20Events%22%20%3A%20tile_layer_15c0c50ddc43478386f3e1bf1481c3aa%2C%22Predicted%20Events%22%20%3A%20tile_layer_ef2ba2e52281439391597a3ffc24dd55%2C%20%7D%0A%20%20%20%20%20%20%20%20%20%20%20%20%20%20%20%20%7D%3B%0A%20%20%20%20%20%20%20%20%20%20%20%20L.control.layers%28%0A%20%20%20%20%20%20%20%20%20%20%20%20%20%20%20%20layer_control_45bc823fcb584aea8817bc8416676a6c.base_layers%2C%0A%20%20%20%20%20%20%20%20%20%20%20%20%20%20%20%20layer_control_45bc823fcb584aea8817bc8416676a6c.overlays%2C%0A%20%20%20%20%20%20%20%20%20%20%20%20%20%20%20%20%7Bposition%3A%20%27topright%27%2C%0A%20%20%20%20%20%20%20%20%20%20%20%20%20%20%20%20%20collapsed%3A%20true%2C%0A%20%20%20%20%20%20%20%20%20%20%20%20%20%20%20%20%20autoZIndex%3A%20true%0A%20%20%20%20%20%20%20%20%20%20%20%20%20%20%20%20%7D%29.addTo%28map_39cbf2b2049048a99a7c48217a8273b0%29%3B%0A%20%20%20%20%20%20%20%20%20%20%20%20%0A%20%20%20%20%20%20%20%20%0A%3C/script%3E onload=\"this.contentDocument.open();this.contentDocument.write(    decodeURIComponent(this.getAttribute('data-html')));this.contentDocument.close();\" allowfullscreen webkitallowfullscreen mozallowfullscreen></iframe></div></div>"
            ],
            "text/plain": [
              "<folium.folium.Map at 0x7f46eecd25d0>"
            ]
          },
          "metadata": {
            "tags": []
          }
        }
      ]
    },
    {
      "cell_type": "markdown",
      "metadata": {
        "id": "99OVfCHJieuZ"
      },
      "source": [
        "#Future Work\n",
        "If more funding and time was provided for this project, a wildfire researcher would first be hired to verify the current findings and provide guidance on any features missed that could have a significant impact on the outcome of the final model. Secondly, due to time constraints from the free tier of Google Earth Engine, which can only run for 5 minutes, it would be beneficial to purchase more runtime and memory to train larger models. By doing this, more relevant features could be found that can actually be controlled, unlike wind speed and temperature. Promising features include average weather data for the weeks or months leading up to wildfire, yearly drought information, vegetation dryness, and  total mass of dead vegetation. The goal would be to uncover a relationship between weather data and vegetation dryness, which would be used to determine how quickly a given vegetation type will become combustible given drought conditions. Adding this to the dead vegetation gives a prediction of how much combustible fuel exists in a given area. This can be used to direct forest service resources to do controlled burns in problem areas, before they become problem areas. Lastly, expanding the training data to cover the entire US or world rather than just California could better generalize the model for a wider range of locations.\n"
      ]
    }
  ]
}